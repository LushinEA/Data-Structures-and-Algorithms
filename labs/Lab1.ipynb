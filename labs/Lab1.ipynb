{
 "cells": [
  {
   "cell_type": "markdown",
   "id": "fifteen-sailing",
   "metadata": {},
   "source": [
    "# Лабораторная работа №1\n",
    "## Выполнил студент группы БФИ2001 Лушин Евгений Александрович"
   ]
  },
  {
   "cell_type": "markdown",
   "id": "particular-syndicate",
   "metadata": {},
   "source": [
    "### Оглавление\n",
    "1. [Задание 1](#Задание-№1)\n",
    "2. [Задание 2](#Задание-№2)\n",
    "3. [Задание 3](#Задание-№3)\n",
    "4. [Вывод](#Вывод)"
   ]
  },
  {
   "cell_type": "markdown",
   "id": "arctic-stocks",
   "metadata": {},
   "source": [
    "### Задание №1\n",
    "<i> Вызвать функцию print() и передать туда строку Hello, World! </i>"
   ]
  },
  {
   "cell_type": "code",
   "execution_count": 1,
   "id": "caring-truck",
   "metadata": {
    "scrolled": true
   },
   "outputs": [
    {
     "name": "stdout",
     "output_type": "stream",
     "text": [
      "Hello World!\n"
     ]
    }
   ],
   "source": [
    "print(\"Hello World!\")"
   ]
  },
  {
   "cell_type": "markdown",
   "id": "maritime-conversation",
   "metadata": {},
   "source": [
    "### Задание №2\n",
    "Написать генератор случайных матриц(многомерных), который принимает\n",
    "опциональные параметры <b>m</b>, <b>n</b>, <b>min_limit</b>, <b>max_limit</b>, где <b>m</b> и <b>n</b> указывают размер\n",
    "матрицы, а <b>min_lim</b> и <b>max_lim</b> - минимальное и максимальное значение для\n",
    "генерируемого числа. По умолчанию при отсутствии параметров принимать следующие значения: <b>m=50<b>, <b>n=50<b>, <b>min_limit=-250<b>, <b>max_limit=1000 + (номер своего варианта)<b>."
   ]
  },
  {
   "cell_type": "code",
   "execution_count": 2,
   "id": "built-contact",
   "metadata": {},
   "outputs": [],
   "source": [
    "import random\n",
    "import time\n",
    "import pandas as pd"
   ]
  },
  {
   "cell_type": "code",
   "execution_count": 3,
   "id": "51979c34",
   "metadata": {},
   "outputs": [
    {
     "name": "stdout",
     "output_type": "stream",
     "text": [
      "Введите количество строк: 5\n",
      "Введите количество столбцов: 5\n",
      "Введите минимальное значение генерируемого числа: 0\n",
      "Введите максимальное значение генерируемого числа: 10\n",
      "[9, 8, 3, 0, 4]\n",
      "[2, 5, 2, 5, 7]\n",
      "[0, 10, 10, 10, 10]\n",
      "[6, 5, 9, 1, 4]\n",
      "[1, 5, 0, 10, 4]\n"
     ]
    },
    {
     "data": {
      "text/plain": [
       "(5, 5, 0, 10)"
      ]
     },
     "execution_count": 3,
     "metadata": {},
     "output_type": "execute_result"
    }
   ],
   "source": [
    "def is_number(stroka):\n",
    "    try:\n",
    "        float(stroka)\n",
    "        return True\n",
    "    except ValueError:\n",
    "        return False\n",
    "\n",
    "while True:\n",
    "    user_m = input(\"Введите количество строк: \")\n",
    "    if user_m == '':\n",
    "        print(\"Вы не ввели число. Количество строк будет принято за 50.\")\n",
    "        user_m = 50\n",
    "        break\n",
    "    elif not user_m.isnumeric():\n",
    "        print(\"Вы ввели не число. Попробуйте снова.\")\n",
    "    else:\n",
    "        user_m = int(user_m)\n",
    "        break\n",
    "        \n",
    "while True:\n",
    "    user_n = input(\"Введите количество столбцов: \")\n",
    "    if user_n == '':\n",
    "        print(\"Вы не ввели число. Количество столбцов будет принято за 50.\")\n",
    "        user_n = 50\n",
    "        break\n",
    "    elif not user_n.isnumeric():\n",
    "        print(\"Вы ввели не число. Попробуйте снова.\")\n",
    "    else:\n",
    "        user_n = int(user_n)\n",
    "        break\n",
    "        \n",
    "while True:\n",
    "    user_min_limit = input(\"Введите минимальное значение генерируемого числа: \")\n",
    "    if user_min_limit == '':\n",
    "        print(\"Вы не ввели число. Минимальное значение генерируемого числа будет принято за -250.\")\n",
    "        user_min_limit = -250\n",
    "        break\n",
    "    elif is_number(user_min_limit)==False:\n",
    "        print(\"Вы ввели не число. Попробуйте снова.\")\n",
    "    else:\n",
    "        user_min_limit = int(user_min_limit)\n",
    "        break\n",
    "        \n",
    "while True:\n",
    "    user_max_limit = input(\"Введите максимальное значение генерируемого числа: \")\n",
    "    if user_max_limit == '':\n",
    "        print(\"Вы не ввели число. Максимальное значение генерируемого числа будет принято за 1013.\")\n",
    "        user_max_limit = 1013\n",
    "        break\n",
    "    elif is_number(user_max_limit)==False:\n",
    "        print(\"Вы ввели не число. Попробуйте снова.\")\n",
    "    else:\n",
    "        user_max_limit = int(user_max_limit)\n",
    "        break\n",
    "        \n",
    "matrix = [[random.randint(int(user_min_limit),int(user_max_limit)) for j in range(int(user_n))] for i in range(int(user_m))]\n",
    "for i in range(int(user_m)):\n",
    "    print(matrix[i])\n",
    "    \n",
    "user_m, user_n, user_min_limit, user_max_limit"
   ]
  },
  {
   "cell_type": "markdown",
   "id": "catholic-roots",
   "metadata": {},
   "source": [
    "### Задание №3\n",
    "Реализовать методы сортировки строк числовой матрицы в соответствии с\n",
    "заданием. Оценить время работы каждого алгоритма сортировки и сравнить его со\n",
    "временем стандартной функции сортировки. Испытания проводить на сгенерированных\n",
    "матрицах."
   ]
  },
  {
   "cell_type": "markdown",
   "id": "08eb5325",
   "metadata": {},
   "source": [
    "#### 1. Сортировка выбором"
   ]
  },
  {
   "cell_type": "code",
   "execution_count": 4,
   "id": "opposed-creature",
   "metadata": {},
   "outputs": [],
   "source": [
    "import copy\n",
    "import math"
   ]
  },
  {
   "cell_type": "code",
   "execution_count": 5,
   "id": "cleared-anniversary",
   "metadata": {},
   "outputs": [
    {
     "name": "stdout",
     "output_type": "stream",
     "text": [
      "Исходная матрица\n",
      "[9, 8, 3, 0, 4]\n",
      "[2, 5, 2, 5, 7]\n",
      "[0, 10, 10, 10, 10]\n",
      "[6, 5, 9, 1, 4]\n",
      "[1, 5, 0, 10, 4]\n",
      "Отсортированная матрица\n",
      "[0, 3, 4, 8, 9]\n",
      "[2, 2, 5, 5, 7]\n",
      "[0, 10, 10, 10, 10]\n",
      "[1, 4, 5, 6, 9]\n",
      "[0, 1, 4, 5, 10]\n",
      "--- 1 ms ---\n"
     ]
    }
   ],
   "source": [
    "# Сортировка выбором.\n",
    "# Берётся срез массива, в котором минимальный элемент переносят в самый левый угол,\n",
    "# после чего срез уменьшается и цикл повторяется.\n",
    "start_time = time.time()\n",
    "#TODO\n",
    "def selection_sort(array):\n",
    "    for i in range(0, user_n - 1):\n",
    "        smallest = i\n",
    "        for j in range(i + 1, len(array)):\n",
    "            if array[j] < array[smallest]:\n",
    "                smallest = j\n",
    "        array[i], array[smallest] = array[smallest], array[i]\n",
    "    return array\n",
    "        \n",
    "print('Исходная матрица')\n",
    "for k in range(int(user_m)):\n",
    "    print(matrix[k])\n",
    "\n",
    "print('Отсортированная матрица')\n",
    "selection_sort_matrix = copy.deepcopy(matrix)\n",
    "for k in range(int(user_m)):\n",
    "    print(selection_sort(selection_sort_matrix[k]))\n",
    "\n",
    "time_selection_sort = round((time.time() - start_time)*1000)\n",
    "print(\"--- {0} ms ---\".format(time_selection_sort))"
   ]
  },
  {
   "cell_type": "markdown",
   "id": "2ec67abf",
   "metadata": {},
   "source": [
    "#### 2. Сортировка вставкой"
   ]
  },
  {
   "cell_type": "code",
   "execution_count": 6,
   "id": "roman-silly",
   "metadata": {
    "scrolled": true
   },
   "outputs": [
    {
     "name": "stdout",
     "output_type": "stream",
     "text": [
      "Исходная матрица\n",
      "[9, 8, 3, 0, 4]\n",
      "[2, 5, 2, 5, 7]\n",
      "[0, 10, 10, 10, 10]\n",
      "[6, 5, 9, 1, 4]\n",
      "[1, 5, 0, 10, 4]\n",
      "Отсортированная матрица\n",
      "[0, 3, 4, 8, 9]\n",
      "[2, 2, 5, 5, 7]\n",
      "[0, 10, 10, 10, 10]\n",
      "[1, 4, 5, 6, 9]\n",
      "[0, 1, 4, 5, 10]\n",
      "--- 1 ms ---\n"
     ]
    }
   ],
   "source": [
    "# Сортировка вставкой.\n",
    "start_time = time.time()\n",
    "#TODO\n",
    "def insertion_sort(array):\n",
    "    for i in range(1, user_n):\n",
    "        temp = array[i]\n",
    "        j = i - 1\n",
    "        while (j >= 0 and temp < array[j]):\n",
    "            array[j + 1] = array[j]\n",
    "            j = j - 1\n",
    "        array[j + 1] = temp\n",
    "    return array\n",
    "\n",
    "print('Исходная матрица')\n",
    "for k in range(int(user_m)):\n",
    "    print(matrix[k])\n",
    "\n",
    "print('Отсортированная матрица')\n",
    "insertion_sort_matrix = copy.deepcopy(matrix)\n",
    "for k in range(int(user_m)):\n",
    "    print(insertion_sort(insertion_sort_matrix[k]))\n",
    "\n",
    "time_insertion_sort = round((time.time() - start_time)*1000)\n",
    "print(\"--- {0} ms ---\".format(time_insertion_sort))"
   ]
  },
  {
   "cell_type": "markdown",
   "id": "a2f0c4d8",
   "metadata": {},
   "source": [
    "#### 3. Сортировка обменом (Сортировка пузырьком)"
   ]
  },
  {
   "cell_type": "code",
   "execution_count": 7,
   "id": "vital-implementation",
   "metadata": {},
   "outputs": [
    {
     "name": "stdout",
     "output_type": "stream",
     "text": [
      "Исходная матрица\n",
      "[9, 8, 3, 0, 4]\n",
      "[2, 5, 2, 5, 7]\n",
      "[0, 10, 10, 10, 10]\n",
      "[6, 5, 9, 1, 4]\n",
      "[1, 5, 0, 10, 4]\n",
      "Отсортированная матрица\n",
      "[0, 3, 4, 8, 9]\n",
      "[2, 2, 5, 5, 7]\n",
      "[0, 10, 10, 10, 10]\n",
      "[1, 4, 5, 6, 9]\n",
      "[0, 1, 4, 5, 10]\n",
      "--- 0 ms ---\n"
     ]
    }
   ],
   "source": [
    "# Сортировка обменом. || Сортировка пузырьком.\n",
    "start_time = time.time()\n",
    "#TODO\n",
    "def swap_sort(array):\n",
    "        swapped = False\n",
    "        for i in range(user_n-1,0,-1):\n",
    "            for j in range(i):\n",
    "                if array[j]>array[j+1]:\n",
    "                    array[j], array[j+1] = array[j+1], array[j]\n",
    "                    swapped= True\n",
    "            if swapped:\n",
    "                swapped=False\n",
    "            else:\n",
    "                break\n",
    "        return array\n",
    "\n",
    "print('Исходная матрица')\n",
    "for k in range(int(user_m)):\n",
    "    print(matrix[k])\n",
    "\n",
    "print('Отсортированная матрица')\n",
    "swap_sort_matrix = copy.deepcopy(matrix)\n",
    "for k in range(int(user_m)):\n",
    "    print(swap_sort(swap_sort_matrix[k]))\n",
    "\n",
    "time_swap_sort = round((time.time() - start_time)*1000)\n",
    "print(\"--- {0} ms ---\".format(time_swap_sort))"
   ]
  },
  {
   "cell_type": "markdown",
   "id": "b07a2a19",
   "metadata": {},
   "source": [
    "#### 4. Сортировка Шелла"
   ]
  },
  {
   "cell_type": "code",
   "execution_count": 8,
   "id": "veterinary-glory",
   "metadata": {
    "scrolled": true
   },
   "outputs": [
    {
     "name": "stdout",
     "output_type": "stream",
     "text": [
      "Исходная матрица\n",
      "[9, 8, 3, 0, 4]\n",
      "[2, 5, 2, 5, 7]\n",
      "[0, 10, 10, 10, 10]\n",
      "[6, 5, 9, 1, 4]\n",
      "[1, 5, 0, 10, 4]\n",
      "Отсортированная матрица\n",
      "[0, 3, 4, 8, 9]\n",
      "[2, 2, 5, 5, 7]\n",
      "[0, 10, 10, 10, 10]\n",
      "[1, 4, 5, 6, 9]\n",
      "[0, 1, 4, 5, 10]\n",
      "--- 1 ms ---\n"
     ]
    }
   ],
   "source": [
    "# Сортировка Шелла.\n",
    "start_time = time.time()\n",
    "#TODO\n",
    "def Shell_sort(array):\n",
    "    p = int(math.log2(user_n))\n",
    "    interval = 2**p -1\n",
    "    while interval > 0:\n",
    "        for i in range(interval, user_n):\n",
    "            temp = array[i]\n",
    "            j = i\n",
    "            while j >= interval and array[j - interval] > temp:\n",
    "                array[j] = array[j - interval]\n",
    "                j -= interval\n",
    "            array[j] = temp\n",
    "        p -= 1\n",
    "        interval = 2**p -1\n",
    "    return array\n",
    "\n",
    "print('Исходная матрица')\n",
    "for k in range(int(user_m)):\n",
    "    print(matrix[k])\n",
    "\n",
    "print('Отсортированная матрица')\n",
    "Shell_sort_matrix = copy.deepcopy(matrix)\n",
    "for k in range(int(user_m)):\n",
    "    print(Shell_sort(Shell_sort_matrix[k]))\n",
    "\n",
    "time_Shell_sort = round((time.time() - start_time)*1000)\n",
    "print(\"--- {0} ms ---\".format(time_Shell_sort))"
   ]
  },
  {
   "cell_type": "markdown",
   "id": "94b4d764",
   "metadata": {},
   "source": [
    "#### 5. Быстрая сортировка"
   ]
  },
  {
   "cell_type": "code",
   "execution_count": 9,
   "id": "correct-chaos",
   "metadata": {
    "scrolled": true
   },
   "outputs": [
    {
     "name": "stdout",
     "output_type": "stream",
     "text": [
      "Исходная матрица\n",
      "[9, 8, 3, 0, 4]\n",
      "[2, 5, 2, 5, 7]\n",
      "[0, 10, 10, 10, 10]\n",
      "[6, 5, 9, 1, 4]\n",
      "[1, 5, 0, 10, 4]\n",
      "Отсортированная матрица\n",
      "[0, 3, 4, 8, 9]\n",
      "[2, 2, 5, 5, 7]\n",
      "[0, 10, 10, 10, 10]\n",
      "[1, 4, 5, 6, 9]\n",
      "[0, 1, 4, 5, 10]\n",
      "--- 1 ms ---\n"
     ]
    }
   ],
   "source": [
    "# Быстрая сортировка.\n",
    "start_time = time.time()\n",
    "#TODO\n",
    "def quick_sort(array):\n",
    "    if len(array)> 1:\n",
    "        pivot=array.pop()\n",
    "        grtr_lst, equal_lst, smlr_lst = [], [pivot], []\n",
    "        for item in array:\n",
    "            if item == pivot:\n",
    "                equal_lst.append(item)\n",
    "            elif item > pivot:\n",
    "                grtr_lst.append(item)\n",
    "            else:\n",
    "                smlr_lst.append(item)\n",
    "        return (quick_sort(smlr_lst) + equal_lst + quick_sort(grtr_lst))\n",
    "    else:\n",
    "        return array\n",
    "    \n",
    "print('Исходная матрица')\n",
    "for k in range(int(user_m)):\n",
    "    print(matrix[k])\n",
    "\n",
    "print('Отсортированная матрица')\n",
    "quick_sort_matrix = copy.deepcopy(matrix)\n",
    "for k in range(int(user_m)):\n",
    "    print(quick_sort(quick_sort_matrix[k]))\n",
    "\n",
    "time_quick_sort = round((time.time() - start_time)*1000)\n",
    "print(\"--- {0} ms ---\".format(time_quick_sort))"
   ]
  },
  {
   "cell_type": "markdown",
   "id": "de97c112",
   "metadata": {},
   "source": [
    "#### 6. Турнирная сортировка"
   ]
  },
  {
   "cell_type": "code",
   "execution_count": 10,
   "id": "french-czech",
   "metadata": {
    "scrolled": true
   },
   "outputs": [
    {
     "name": "stdout",
     "output_type": "stream",
     "text": [
      "Исходная матрица\n",
      "[9, 8, 3, 0, 4]\n",
      "[2, 5, 2, 5, 7]\n",
      "[0, 10, 10, 10, 10]\n",
      "[6, 5, 9, 1, 4]\n",
      "[1, 5, 0, 10, 4]\n",
      "Отсортированная матрица\n",
      "[0, 3, 4, 8, 9]\n",
      "[2, 2, 5, 5, 7]\n",
      "[0, 10, 10, 10, 10]\n",
      "[1, 4, 5, 6, 9]\n",
      "[0, 1, 4, 5, 10]\n",
      "--- 2 ms ---\n"
     ]
    }
   ],
   "source": [
    "# Турнирная сортировка.\n",
    "start_time = time.time()\n",
    "#TODO\n",
    "\n",
    "class PriorityHeap:\n",
    "    def __init__(self) -> None:\n",
    "        self.cache: list[int] = []\n",
    "        self.size: int = 0\n",
    "        self.max_size = 32\n",
    "\n",
    "    def pop_max(self) -> any: ###\n",
    "        res = self.cache[0]\n",
    "        self.size -= 1\n",
    "        self.cache[0] = self.cache[self.size]\n",
    "        self.cache.pop(self.size)\n",
    "        self.iter_heapify(0)\n",
    "        return res\n",
    "\n",
    "    def max_heap_insert(self, key: int):\n",
    "        self.cache.append(-1000000000000000)\n",
    "        self.insert_key(key, self.size)       #iter_key\n",
    "        self.size += 1\n",
    "        \n",
    "    def insert_key(self, value: int, i: int):\n",
    "        self.cache[i]  = value\n",
    "        parent = self.parent(i)\n",
    "        while i > 0 and self.cache[parent] > self.cache[i]:\n",
    "            self.cache[parent], self.cache[i] = self.cache[i], self.cache[parent]\n",
    "            i = parent\n",
    "            parent = self.parent(i)\n",
    "\n",
    "    def parent(self, i: int) -> int:\n",
    "        res = (i >> 1) - 1\n",
    "        if res < 0:\n",
    "            return 0\n",
    "        else:\n",
    "            return res\n",
    "\n",
    "    def iter_heapify(self, i: int) -> None:\n",
    "        while True:\n",
    "            l: int = (i << 1) + 1\n",
    "            r: int = (i << 1) + 2\n",
    "            largest: int = i\n",
    "\n",
    "            if l < self.size and self.cache[l] < self.cache[largest]:\n",
    "                largest = l\n",
    "\n",
    "            if r < self.size and self.cache[r] < self.cache[largest]:\n",
    "                largest = r\n",
    "\n",
    "            if largest ==i:\n",
    "                break\n",
    "            else:\n",
    "                self.cache[i], self.cache[largest] = self.cache[largest], self.cache[i]\n",
    "                i = largest\n",
    "\n",
    "                \n",
    "                \n",
    "def tournament_sort(a: list[int]) -> list[int]:\n",
    "    a_len: int = len(a)\n",
    "    heap = PriorityHeap()\n",
    "    winners: list[int] = []\n",
    "    losers: list[int] = []\n",
    "\n",
    "    while heap.size < heap.max_size and heap.size < a_len:\n",
    "        elem = a[heap.size]\n",
    "        if winners and winners[-1] > elem:\n",
    "            losers.append(elem)\n",
    "        else:\n",
    "            heap.max_heap_insert(a[heap.size])\n",
    "\n",
    "    for i in range(heap.size, a_len):\n",
    "        elem: int = a[i]\n",
    "\n",
    "        if winners and winners[-1] > elem:\n",
    "            losers.append(elem)\n",
    "        else: \n",
    "            max_elem: int = heap.pop_max()\n",
    "\n",
    "            if not winners:\n",
    "                winners.append(max_elem)\n",
    "            elif winners[-1] <= max_elem:\n",
    "                winners.append(max_elem)\n",
    "            else:\n",
    "                losers.append(max_elem)\n",
    "\n",
    "            heap.max_heap_insert(elem)\n",
    "    \n",
    "    while heap.size > 0:\n",
    "        max_elem: int = heap.pop_max()\n",
    "\n",
    "        if not winners:\n",
    "            winners.append(max_elem)\n",
    "        elif winners[-1] <= max_elem:\n",
    "            winners.append(max_elem)\n",
    "        else: \n",
    "            losers.append(max_elem)\n",
    "    \n",
    "    if not losers:\n",
    "        return winners\n",
    "    else:\n",
    "        winners2: list[int] = tournament_sort(losers)\n",
    "\n",
    "        i: int = 0\n",
    "        j: int = 0\n",
    "        winners1_len: int = len(winners)\n",
    "        winners2_len: int = len(winners2)\n",
    "\n",
    "        winners_res: list[int] = []\n",
    "\n",
    "        while i < winners1_len and j < winners2_len:\n",
    "            if winners[i] < winners2[j]:\n",
    "                winners_res.append(winners[i])\n",
    "                i += 1\n",
    "            else:\n",
    "                winners_res.append(winners2[j])\n",
    "                j += 1\n",
    "        while i < winners1_len:\n",
    "            winners_res.append(winners[i])\n",
    "            i += 1\n",
    "        while j < winners2_len:\n",
    "            winners_res.append(winners2[j])\n",
    "            j += 1\n",
    "        return winners_res\n",
    "\n",
    "print('Исходная матрица')\n",
    "for k in range(int(user_m)):\n",
    "    print(matrix[k])\n",
    "\n",
    "print('Отсортированная матрица')\n",
    "tournament_sort_matrix = copy.deepcopy(matrix)\n",
    "for k in range(int(user_m)):\n",
    "    print(tournament_sort(tournament_sort_matrix[k]))\n",
    "\n",
    "time_tournament_sort = round((time.time() - start_time)*1000)\n",
    "print(\"--- {0} ms ---\".format(time_tournament_sort))"
   ]
  },
  {
   "cell_type": "markdown",
   "id": "cfc6ff0e",
   "metadata": {},
   "source": [
    "#### 7. Стандартная функция сортировки"
   ]
  },
  {
   "cell_type": "code",
   "execution_count": 11,
   "id": "f724e5f7",
   "metadata": {},
   "outputs": [
    {
     "name": "stdout",
     "output_type": "stream",
     "text": [
      "Исходная матрица\n",
      "[9, 8, 3, 0, 4]\n",
      "[2, 5, 2, 5, 7]\n",
      "[0, 10, 10, 10, 10]\n",
      "[6, 5, 9, 1, 4]\n",
      "[1, 5, 0, 10, 4]\n",
      "Отсортированная матрица\n",
      "[0, 3, 4, 8, 9]\n",
      "[2, 2, 5, 5, 7]\n",
      "[0, 10, 10, 10, 10]\n",
      "[1, 4, 5, 6, 9]\n",
      "[0, 1, 4, 5, 10]\n",
      "--- 0 ms ---\n"
     ]
    }
   ],
   "source": [
    "# Стандартная функция сортировки.\n",
    "start_time = time.time()\n",
    "#TODO\n",
    "\n",
    "print('Исходная матрица')\n",
    "for k in range(int(user_m)):\n",
    "    print(matrix[k])\n",
    "\n",
    "print('Отсортированная матрица')\n",
    "sorted_matrix = copy.deepcopy(matrix)\n",
    "for k in range(int(user_m)):\n",
    "    print(sorted(sorted_matrix[k]))\n",
    "    \n",
    "    \n",
    "time_standart_sort = round((time.time() - start_time)*1000)    \n",
    "print(\"--- {0} ms ---\".format(time_standart_sort))"
   ]
  },
  {
   "cell_type": "markdown",
   "id": "rental-jerusalem",
   "metadata": {},
   "source": [
    "### Вывод"
   ]
  },
  {
   "cell_type": "code",
   "execution_count": 12,
   "id": "56c7740d",
   "metadata": {},
   "outputs": [
    {
     "data": {
      "text/html": [
       "<div>\n",
       "<style scoped>\n",
       "    .dataframe tbody tr th:only-of-type {\n",
       "        vertical-align: middle;\n",
       "    }\n",
       "\n",
       "    .dataframe tbody tr th {\n",
       "        vertical-align: top;\n",
       "    }\n",
       "\n",
       "    .dataframe thead th {\n",
       "        text-align: right;\n",
       "    }\n",
       "</style>\n",
       "<table border=\"1\" class=\"dataframe\">\n",
       "  <thead>\n",
       "    <tr style=\"text-align: right;\">\n",
       "      <th></th>\n",
       "      <th>Алгортим сортировки</th>\n",
       "      <th>Время работы алгоритма</th>\n",
       "      <th>Сложность в худшем случае</th>\n",
       "      <th>Сложность в лучшем случае</th>\n",
       "    </tr>\n",
       "  </thead>\n",
       "  <tbody>\n",
       "    <tr>\n",
       "      <th>0</th>\n",
       "      <td>Сортировка выбором</td>\n",
       "      <td>1</td>\n",
       "      <td>O(n^2)</td>\n",
       "      <td>O(n^2)</td>\n",
       "    </tr>\n",
       "    <tr>\n",
       "      <th>1</th>\n",
       "      <td>Сортировка вставкой</td>\n",
       "      <td>1</td>\n",
       "      <td>O(n^2)</td>\n",
       "      <td>O(n)</td>\n",
       "    </tr>\n",
       "    <tr>\n",
       "      <th>2</th>\n",
       "      <td>Сортировка обменом (пузырьком)</td>\n",
       "      <td>0</td>\n",
       "      <td>O(n^2)</td>\n",
       "      <td>O(n)</td>\n",
       "    </tr>\n",
       "    <tr>\n",
       "      <th>3</th>\n",
       "      <td>Сортировка Шелла</td>\n",
       "      <td>1</td>\n",
       "      <td>O(n^(3/2))</td>\n",
       "      <td>O(n)</td>\n",
       "    </tr>\n",
       "    <tr>\n",
       "      <th>4</th>\n",
       "      <td>Быстрая сортировка</td>\n",
       "      <td>1</td>\n",
       "      <td>O(n^2)</td>\n",
       "      <td>O(n*log(n))</td>\n",
       "    </tr>\n",
       "    <tr>\n",
       "      <th>5</th>\n",
       "      <td>Турнирная сортировка</td>\n",
       "      <td>2</td>\n",
       "      <td>O(n*log(n))</td>\n",
       "      <td>---</td>\n",
       "    </tr>\n",
       "    <tr>\n",
       "      <th>6</th>\n",
       "      <td>Стандартная функция сортировки</td>\n",
       "      <td>0</td>\n",
       "      <td>O(n^2)</td>\n",
       "      <td>O(n*log(n))</td>\n",
       "    </tr>\n",
       "  </tbody>\n",
       "</table>\n",
       "</div>"
      ],
      "text/plain": [
       "              Алгортим сортировки  Время работы алгоритма  \\\n",
       "0              Сортировка выбором                       1   \n",
       "1             Сортировка вставкой                       1   \n",
       "2  Сортировка обменом (пузырьком)                       0   \n",
       "3                Сортировка Шелла                       1   \n",
       "4              Быстрая сортировка                       1   \n",
       "5            Турнирная сортировка                       2   \n",
       "6  Стандартная функция сортировки                       0   \n",
       "\n",
       "  Сложность в худшем случае Сложность в лучшем случае  \n",
       "0                    O(n^2)                    O(n^2)  \n",
       "1                    O(n^2)                      O(n)  \n",
       "2                    O(n^2)                      O(n)  \n",
       "3                O(n^(3/2))                      O(n)  \n",
       "4                    O(n^2)               O(n*log(n))  \n",
       "5               O(n*log(n))                       ---  \n",
       "6                    O(n^2)               O(n*log(n))  "
      ]
     },
     "execution_count": 12,
     "metadata": {},
     "output_type": "execute_result"
    }
   ],
   "source": [
    "table_sort = [[\"Сортировка выбором\", time_selection_sort, \"O(n^2)\", \"O(n^2)\"],\n",
    "              [\"Сортировка вставкой\", time_insertion_sort, \"O(n^2)\", \"O(n)\"], \n",
    "              [\"Сортировка обменом (пузырьком)\", time_swap_sort, \"O(n^2)\", \"O(n)\"], \n",
    "              [\"Сортировка Шелла\", time_Shell_sort, \"O(n^(3/2))\", \"O(n)\"],\n",
    "              [\"Быстрая сортировка\", time_quick_sort, \"O(n^2)\", \"O(n*log(n))\"],\n",
    "              [\"Турнирная сортировка\", time_tournament_sort, \"O(n*log(n))\", \"---\"],\n",
    "              [\"Стандартная функция сортировки\", time_standart_sort, \"O(n^2)\", \"O(n*log(n))\"]]\n",
    "\n",
    "pd.DataFrame(table_sort, columns=[\"Алгортим сортировки\",\"Время работы алгоритма\", \"Сложность в худшем случае\", \"Сложность в лучшем случае\"])"
   ]
  }
 ],
 "metadata": {
  "kernelspec": {
   "display_name": "Python 3 (ipykernel)",
   "language": "python",
   "name": "python3"
  },
  "language_info": {
   "codemirror_mode": {
    "name": "ipython",
    "version": 3
   },
   "file_extension": ".py",
   "mimetype": "text/x-python",
   "name": "python",
   "nbconvert_exporter": "python",
   "pygments_lexer": "ipython3",
   "version": "3.9.7"
  }
 },
 "nbformat": 4,
 "nbformat_minor": 5
}
