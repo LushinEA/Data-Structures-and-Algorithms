{
 "cells": [
  {
   "cell_type": "markdown",
   "id": "fifteen-sailing",
   "metadata": {},
   "source": [
    "# Лабораторная работа №2\n",
    "## Выполнил студент группы БФИ2001 Лушин Евгений Александрович"
   ]
  },
  {
   "cell_type": "markdown",
   "id": "particular-syndicate",
   "metadata": {},
   "source": [
    "### Оглавление\n",
    "1. [Задание 1](#Задание-№1)\n",
    "2. [Задание 2](#Задание-№2)\n",
    "3. [Задание 3](#Задание-№3)"
   ]
  },
  {
   "cell_type": "markdown",
   "id": "arctic-stocks",
   "metadata": {},
   "source": [
    "### Задание №1\n",
    "Реализовать методы поиска в соответствии с заданием. Организовать генерацию начального набора случайных данных. Для всех вариантов добавить реализацию добавления, поиска и удаления элементов. Оценить время работы каждого алгоритма поиска и сравнить его со временем работы стандартной функции поиска, используемой в выбранном языке программирования."
   ]
  },
  {
   "cell_type": "code",
   "execution_count": 1,
   "id": "fbfe8a6e",
   "metadata": {},
   "outputs": [],
   "source": [
    "from random import randint\n",
    "\n",
    "def random_list(min_value, max_value, n):\n",
    "    return [randint(min_value,max_value) for i in range(n)]\n",
    "\n",
    "massiv = random_list(0, 100, 10)\n",
    "sorted_massiv = sorted(massiv)"
   ]
  },
  {
   "cell_type": "code",
   "execution_count": 2,
   "id": "caring-truck",
   "metadata": {
    "scrolled": true
   },
   "outputs": [],
   "source": [
    "#Бинарный поиск\n",
    "def binary_search(array, key):\n",
    "    lower_bound = 0\n",
    "    upper_bound = len(array) - 1\n",
    "    \n",
    "    while lower_bound <= upper_bound:\n",
    "        center = (lower_bound + upper_bound) // 2\n",
    "        \n",
    "        if array[center] == key:\n",
    "            return center\n",
    "        elif array[center] > key:\n",
    "            upper_bound = center - 1\n",
    "        elif array[center] < key:\n",
    "            lower_bound = center + 1\n",
    "    \n",
    "    return -1\n",
    "\n",
    "# Вставка\n",
    "def binary_search_insert(array, key):\n",
    "    array.insert(binary_search(array, key), key)\n",
    "    return array\n",
    "\n",
    "# Удаление\n",
    "def binary_search_remove(array, key):\n",
    "    element = binary_search(array, key)\n",
    "    array.pop(element)\n",
    "    return array"
   ]
  },
  {
   "cell_type": "code",
   "execution_count": 3,
   "id": "e74d83f6",
   "metadata": {},
   "outputs": [
    {
     "name": "stdout",
     "output_type": "stream",
     "text": [
      "Исходный массив\n",
      "[50, 61, 43, 55, 79, 17, 53, 50, 27, 39]\n",
      "Отсортированный массив\n",
      "[17, 27, 39, 43, 50, 50, 53, 55, 61, 79]\n",
      "Вставка элемента в массиве\n",
      "[17, 27, 39, 43, 50, 50, 50, 53, 55, 61, 79]\n",
      "Поиск элемента в массиве\n",
      "5\n",
      "Удаление элемента в массиве\n",
      "[17, 27, 39, 43, 50, 50, 53, 55, 61, 79]\n"
     ]
    }
   ],
   "source": [
    "print('Исходный массив')\n",
    "print(massiv)\n",
    "\n",
    "print('Отсортированный массив')\n",
    "print(sorted_massiv)\n",
    "\n",
    "print('Вставка элемента в массиве')\n",
    "print(binary_search_insert(sorted_massiv, 50))\n",
    "\n",
    "print('Поиск элемента в массиве')\n",
    "print(binary_search(sorted_massiv, 50))\n",
    "\n",
    "print('Удаление элемента в массиве')\n",
    "print(binary_search_remove(sorted_massiv, 50))"
   ]
  },
  {
   "cell_type": "code",
   "execution_count": 4,
   "id": "75af3ea8",
   "metadata": {},
   "outputs": [],
   "source": [
    "#Бинарное дерево"
   ]
  },
  {
   "cell_type": "code",
   "execution_count": 5,
   "id": "abe4b0b4",
   "metadata": {},
   "outputs": [],
   "source": [
    "#Метод Фибоначчи"
   ]
  },
  {
   "cell_type": "code",
   "execution_count": 6,
   "id": "34ec2894",
   "metadata": {},
   "outputs": [],
   "source": [
    "#Интерполяционный"
   ]
  },
  {
   "cell_type": "markdown",
   "id": "maritime-conversation",
   "metadata": {},
   "source": [
    "### Задание №2\n",
    "Написать соответствующие решения для заданных методов."
   ]
  },
  {
   "cell_type": "code",
   "execution_count": 7,
   "id": "97f9de37",
   "metadata": {},
   "outputs": [],
   "source": [
    "#Простое рехэширование"
   ]
  },
  {
   "cell_type": "code",
   "execution_count": 8,
   "id": "b4b80e3a",
   "metadata": {},
   "outputs": [],
   "source": [
    "#Рехэширование с помощью псевдослучайных чисел\n"
   ]
  },
  {
   "cell_type": "code",
   "execution_count": 9,
   "id": "1addc092",
   "metadata": {},
   "outputs": [],
   "source": [
    "#Метод цепочек"
   ]
  },
  {
   "cell_type": "markdown",
   "id": "catholic-roots",
   "metadata": {},
   "source": [
    "### Задание №3\n",
    "Расставить на стандартной 64-клеточной шахматной доске 8 ферзей так, чтобы ни один из них не находился под боем другого». Подразумевается, что ферзь бьёт все клетки, расположенные по вертикалям, горизонталям и обеим диагоналям\n",
    "Написать программу,  которая находит хотя бы один способ решения задач.\n"
   ]
  },
  {
   "cell_type": "code",
   "execution_count": null,
   "id": "09de30c9",
   "metadata": {},
   "outputs": [],
   "source": []
  },
  {
   "cell_type": "code",
   "execution_count": null,
   "id": "0ac28460",
   "metadata": {},
   "outputs": [],
   "source": []
  }
 ],
 "metadata": {
  "kernelspec": {
   "display_name": "Python 3 (ipykernel)",
   "language": "python",
   "name": "python3"
  },
  "language_info": {
   "codemirror_mode": {
    "name": "ipython",
    "version": 3
   },
   "file_extension": ".py",
   "mimetype": "text/x-python",
   "name": "python",
   "nbconvert_exporter": "python",
   "pygments_lexer": "ipython3",
   "version": "3.9.7"
  }
 },
 "nbformat": 4,
 "nbformat_minor": 5
}
