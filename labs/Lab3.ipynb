{
 "cells": [
  {
   "cell_type": "markdown",
   "id": "db4b50f0",
   "metadata": {},
   "source": [
    "# Лабораторная работа №3\n",
    "## Выполнил студент группы БФИ2001 Лушин Евгений Александрович"
   ]
  },
  {
   "cell_type": "markdown",
   "id": "annual-symbol",
   "metadata": {},
   "source": [
    "### Оглавление\n",
    "1. [Задание 1](#Задание-№1)\n",
    "2. [Задание 2](#Задание-№2)\n",
    "4. [Вывод](#Вывод)"
   ]
  },
  {
   "cell_type": "markdown",
   "id": "independent-spirit",
   "metadata": {},
   "source": [
    "> Дополнительные модули, использованные при выполнение лабораторной"
   ]
  },
  {
   "cell_type": "code",
   "execution_count": 1,
   "id": "4839be2b",
   "metadata": {},
   "outputs": [],
   "source": [
    "# Необходим при замере скорости выполнения кода\n",
    "from datetime import datetime as t\n",
    "# Нужен для создания словаря в алг. Бойера-Мура\n",
    "from collections import defaultdict"
   ]
  },
  {
   "cell_type": "markdown",
   "id": "inclusive-motorcycle",
   "metadata": {},
   "source": [
    "### Задание №1\n",
    "Реализовать методы поиска подстроки в строке. Добавить возможность ввода строки и подстроки с клавиатуры. Предусмотреть возможность существования пробела. Реализовать возможность выбора опции чувствительности или нечувствительности к регистру. Оценить время работы каждого алгоритма поиска и сравнить его со временем работы стандартной функции поиска, используемой в выбранном языке программирования."
   ]
  },
  {
   "cell_type": "markdown",
   "id": "interracial-communication",
   "metadata": {},
   "source": [
    "#### Алгоритм Кнута-Морриса-Пратта"
   ]
  },
  {
   "cell_type": "code",
   "execution_count": 2,
   "id": "presidential-level",
   "metadata": {},
   "outputs": [
    {
     "name": "stdout",
     "output_type": "stream",
     "text": [
      "Введите строку: Hello World\n",
      "Введите подстроку: WORLD\n",
      "Включить чувствительность к регистру? (0 - нет, 1 - да): 1\n",
      "Результат: Совпадение не найдено\n"
     ]
    }
   ],
   "source": [
    "def prefix_function(text):\n",
    "    n = len(text)\n",
    "    pi = [0] * n\n",
    "    for i in range(1, n):\n",
    "        j = pi[i-1]\n",
    "        while j > 0 and text[j] != text[i]:\n",
    "            j = pi[j-1]\n",
    "        if text[i] == text[j]:\n",
    "            j += 1\n",
    "        pi[i] = j\n",
    "    return pi\n",
    "\n",
    "\n",
    "def kmp_search(text, sub_text, register, start_index=0):\n",
    "    if register == '0':\n",
    "        text = text.lower()\n",
    "        sub_text = sub_text.lower()\n",
    "    j = 0\n",
    "    pi = prefix_function(sub_text)\n",
    "    for i in range(start_index, len(text)):\n",
    "        while j > 0 and text[i] != sub_text[j]:\n",
    "            j = pi[j-1]\n",
    "        if text[i] == sub_text[j]:\n",
    "            j += 1\n",
    "        if j >= len(sub_text):\n",
    "            return \"Результат: Совпадение найдено\"\n",
    "    return \"Результат: Совпадение не найдено\"\n",
    "\n",
    "\n",
    "text = input(\"Введите строку: \")\n",
    "sub_text = input(\"Введите подстроку: \")\n",
    "register = input(\"Включить чувствительность к регистру? (0 - нет, 1 - да): \")\n",
    "\n",
    "print(kmp_search(text, sub_text, register, 0))"
   ]
  },
  {
   "cell_type": "markdown",
   "id": "downtown-option",
   "metadata": {},
   "source": [
    "#### Упрощенный алгоритм Бойера-Мура"
   ]
  },
  {
   "cell_type": "code",
   "execution_count": 3,
   "id": "9d27646c",
   "metadata": {},
   "outputs": [
    {
     "name": "stdout",
     "output_type": "stream",
     "text": [
      "Введите строку: HELlO World\n",
      "Введите подстроку: hello\n",
      "Включить чувствительность к регистру? (0 - нет, 1 - да): 0\n",
      "Результат: Совпадение найдено\n"
     ]
    }
   ],
   "source": [
    "# Этап 1: формирование таблицы смещений\n",
    "def bmPredCompil(sub_text):\n",
    "    S = set()  # уникальные символы в образе\n",
    "    M = len(sub_text) # число символов в образе\n",
    "    dictionary = {}     # словарь смещений\n",
    "    for i in range(M-2, -1, -1): # итерации с предпоследнего символа\n",
    "        if sub_text[i] not in S:        # если символ еще не добавлен в таблицу\n",
    "            dictionary[sub_text[i]] = M-i-1\n",
    "            S.add(sub_text[i])\n",
    "    if sub_text[M-1] not in S:     # отдельно формируем последний символ\n",
    "        dictionary[sub_text[M-1]] = M\n",
    "    dictionary['*'] = M              # смещения для прочих символов\n",
    "    return dictionary\n",
    "\n",
    "# Этап 2: поиск образа в строке\n",
    "def boyerMurSearch(text, sub_text, register):\n",
    "    if register == '0':\n",
    "        text = text.lower()\n",
    "        sub_text = sub_text.lower()\n",
    "    dictionary = bmPredCompil(sub_text)\n",
    "    N = len(text)\n",
    "    M = len(sub_text)\n",
    "    if N >= M:\n",
    "        i = M-1       # счетчик проверяемого символа в строке\n",
    "        while(i < N):\n",
    "            k = 0\n",
    "            j = 0\n",
    "            flBreak = False\n",
    "            for j in range(M-1, -1, -1):\n",
    "                if text[i-k] != sub_text[j]:\n",
    "                    if j == M-1:\n",
    "                        off = dictionary[text[i]] if dictionary.get(text[i], False) else dictionary['*']  # смещение, если не равен последний символ образа\n",
    "                    else:\n",
    "                        off = dictionary[sub_text[j]]   # смещение, если не равен не последний символ образа\n",
    "\n",
    "                    i += off    # смещение счетчика строки\n",
    "                    flBreak = True  # если несовпадение символа, то flBreak = True\n",
    "                    break\n",
    "                k += 1          # смещение для сравниваемого символа в строке\n",
    "            if not flBreak:          # если дошли до начала образа, значит, все его символы совпали\n",
    "                return \"Результат: Совпадение найдено\"\n",
    "                break\n",
    "        else:\n",
    "            return \"Результат: Совпадение не найдено\"\n",
    "    else:\n",
    "        return \"Результат: Совпадение не найдено\"\n",
    "    \n",
    "    \n",
    "text = input(\"Введите строку: \")\n",
    "sub_text = input(\"Введите подстроку: \")\n",
    "register = input(\"Включить чувствительность к регистру? (0 - нет, 1 - да): \")\n",
    "\n",
    "print(boyerMurSearch(text, sub_text, register))"
   ]
  },
  {
   "cell_type": "markdown",
   "id": "hybrid-memorial",
   "metadata": {},
   "source": [
    "### Задание №2\n",
    "Написать программу, определяющую, является ли данное\n",
    "расположение «решаемым», то есть можно ли из него за конечное число\n",
    "шагов перейти к правильному. Если это возможно, то необходимо найти хотя\n",
    "бы одно решение - последовательность движений, после которой числа будут\n",
    "расположены в правильном порядке.\n",
    "#### Входные данные: массив чисел, представляющий собой расстановку в\n",
    "Порядке «слева направо, сверху вниз». Число 0 обозначает пустое поле.\n",
    "Например, массив [1, 2, 3, 4, 5, 6, 7, 8, 9, 10, 11, 12, 13, 14, 15, 0] представляет\n",
    "собой «решенную» позицию элементов.\n",
    "#### Выходные данные: если решения нет, то функция должна вернуть\n",
    "Пустой массив []. Если решение есть, то необходимо представить решение —\n",
    "для каждого шага записывается номер передвигаемого на данном шаге\n",
    "элемента. "
   ]
  },
  {
   "cell_type": "code",
   "execution_count": null,
   "id": "eleven-generic",
   "metadata": {},
   "outputs": [],
   "source": []
  },
  {
   "cell_type": "markdown",
   "id": "arbitrary-amazon",
   "metadata": {},
   "source": [
    "### Вывод"
   ]
  },
  {
   "cell_type": "markdown",
   "id": "71bc58bf",
   "metadata": {},
   "source": []
  }
 ],
 "metadata": {
  "kernelspec": {
   "display_name": "Python 3 (ipykernel)",
   "language": "python",
   "name": "python3"
  },
  "language_info": {
   "codemirror_mode": {
    "name": "ipython",
    "version": 3
   },
   "file_extension": ".py",
   "mimetype": "text/x-python",
   "name": "python",
   "nbconvert_exporter": "python",
   "pygments_lexer": "ipython3",
   "version": "3.9.7"
  }
 },
 "nbformat": 4,
 "nbformat_minor": 5
}
