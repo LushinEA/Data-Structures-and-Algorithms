{
 "cells": [
  {
   "cell_type": "markdown",
   "id": "fifteen-sailing",
   "metadata": {},
   "source": [
    "# Лабораторная работа №4\n",
    "## Выполнил студент группы ФИО ГРУППА"
   ]
  },
  {
   "cell_type": "markdown",
   "id": "arctic-stocks",
   "metadata": {},
   "source": [
    "Реализовать следующие структуры данных:\n",
    "  \n",
    "● <b> Стек (stack): </b>  \n",
    "Операции для стека: \n",
    "<i> инициализация, проверка на пустоту, добавление нового элемента в начало, извлечение элемента из начала;  </i>  \n",
    "  \n",
    "● <b> Дек (двусторонняя очередь, deque):  </b>  \n",
    "Операции для дека: \n",
    "<i> инициализация, проверка на пустоту, добавление нового элемента в начало, добавление нового элемента в конец, извлечение элемента из начала, извлечение элемента из конца. </i>  \n",
    "  \n",
    "<i> Разработать программу обработки данных, содержащихся в заранее подготовленном txt-файле, в соответствии с заданиями, применив указанную в задании структуру данных. Результат работы программы вывести на экран и сохранить в отдельном txt-файле. </i>"
   ]
  },
  {
   "cell_type": "markdown",
   "id": "edceb5db",
   "metadata": {},
   "source": [
    "## Стек\n",
    "### 1) Инициализация"
   ]
  },
  {
   "cell_type": "code",
   "execution_count": 1,
   "id": "d84885b0",
   "metadata": {},
   "outputs": [],
   "source": [
    "stack = []"
   ]
  },
  {
   "cell_type": "markdown",
   "id": "e846f371",
   "metadata": {},
   "source": [
    "### 2) Проверка на пустоту (empty)"
   ]
  },
  {
   "cell_type": "code",
   "execution_count": 2,
   "id": "41ce2d9b",
   "metadata": {
    "scrolled": true
   },
   "outputs": [
    {
     "data": {
      "text/plain": [
       "True"
      ]
     },
     "execution_count": 2,
     "metadata": {},
     "output_type": "execute_result"
    }
   ],
   "source": [
    "len(stack) == 0"
   ]
  },
  {
   "cell_type": "markdown",
   "id": "612f2f28",
   "metadata": {},
   "source": [
    "### 3) Добавление нового элемента в начало (push)"
   ]
  },
  {
   "cell_type": "code",
   "execution_count": 3,
   "id": "67df4595",
   "metadata": {},
   "outputs": [],
   "source": [
    "stack.append(1)\n",
    "stack.append(3)\n",
    "stack.append(2)\n",
    "stack.append(4)"
   ]
  },
  {
   "cell_type": "markdown",
   "id": "0817c9a8",
   "metadata": {},
   "source": [
    "### 4) Извлечение элемента из начала (pop)"
   ]
  },
  {
   "cell_type": "code",
   "execution_count": 4,
   "id": "12f2607d",
   "metadata": {},
   "outputs": [
    {
     "data": {
      "text/plain": [
       "4"
      ]
     },
     "execution_count": 4,
     "metadata": {},
     "output_type": "execute_result"
    }
   ],
   "source": [
    "stack.pop()"
   ]
  },
  {
   "cell_type": "markdown",
   "id": "3f185dba",
   "metadata": {},
   "source": [
    "### 5) Посмотреть элемент на вершине стека (top)"
   ]
  },
  {
   "cell_type": "code",
   "execution_count": 5,
   "id": "272a0cf7",
   "metadata": {},
   "outputs": [
    {
     "data": {
      "text/plain": [
       "2"
      ]
     },
     "execution_count": 5,
     "metadata": {},
     "output_type": "execute_result"
    }
   ],
   "source": [
    "stack[-1]"
   ]
  },
  {
   "cell_type": "markdown",
   "id": "a257258e",
   "metadata": {},
   "source": [
    "### 6) Определение размера стека (size)"
   ]
  },
  {
   "cell_type": "code",
   "execution_count": 6,
   "id": "e089c58a",
   "metadata": {},
   "outputs": [
    {
     "data": {
      "text/plain": [
       "3"
      ]
     },
     "execution_count": 6,
     "metadata": {},
     "output_type": "execute_result"
    }
   ],
   "source": [
    "len(stack)"
   ]
  },
  {
   "cell_type": "markdown",
   "id": "0734622f",
   "metadata": {},
   "source": [
    "## Дек\n",
    "### 1) Инициализация"
   ]
  },
  {
   "cell_type": "code",
   "execution_count": 7,
   "id": "4b2230bf",
   "metadata": {},
   "outputs": [],
   "source": [
    "from collections import deque\n",
    "\n",
    "dec = deque()"
   ]
  },
  {
   "cell_type": "markdown",
   "id": "64644bd5",
   "metadata": {},
   "source": [
    "### 2) Проверка на пустоту (empty)"
   ]
  },
  {
   "cell_type": "code",
   "execution_count": 8,
   "id": "0eef1d79",
   "metadata": {},
   "outputs": [
    {
     "data": {
      "text/plain": [
       "True"
      ]
     },
     "execution_count": 8,
     "metadata": {},
     "output_type": "execute_result"
    }
   ],
   "source": [
    "len(dec) == 0"
   ]
  },
  {
   "cell_type": "markdown",
   "id": "e5cc2f1d",
   "metadata": {},
   "source": [
    "### 3) Добавление нового элемента в начало (push_front)"
   ]
  },
  {
   "cell_type": "code",
   "execution_count": 9,
   "id": "38e53a21",
   "metadata": {},
   "outputs": [],
   "source": [
    "dec.appendleft(1)\n",
    "dec.appendleft(0)\n",
    "dec.appendleft(-1)\n",
    "dec.appendleft(-2)"
   ]
  },
  {
   "cell_type": "markdown",
   "id": "bab6a690",
   "metadata": {},
   "source": [
    "### 4) Добавление нового элемента в конец (push_back)"
   ]
  },
  {
   "cell_type": "code",
   "execution_count": 10,
   "id": "2130cb4f",
   "metadata": {},
   "outputs": [],
   "source": [
    "dec.append(2)\n",
    "dec.append(3)\n",
    "dec.append(4)\n",
    "dec.append(5)"
   ]
  },
  {
   "cell_type": "markdown",
   "id": "f69281a0",
   "metadata": {},
   "source": [
    "### 5) Извлечение элемента из начала (pop_front)"
   ]
  },
  {
   "cell_type": "code",
   "execution_count": 11,
   "id": "a4bd3673",
   "metadata": {},
   "outputs": [
    {
     "data": {
      "text/plain": [
       "-2"
      ]
     },
     "execution_count": 11,
     "metadata": {},
     "output_type": "execute_result"
    }
   ],
   "source": [
    "dec.popleft()"
   ]
  },
  {
   "cell_type": "markdown",
   "id": "5e454928",
   "metadata": {},
   "source": [
    "### 6) Извлечение элемента из конца (pop_back)"
   ]
  },
  {
   "cell_type": "code",
   "execution_count": 12,
   "id": "336638b3",
   "metadata": {},
   "outputs": [
    {
     "data": {
      "text/plain": [
       "5"
      ]
     },
     "execution_count": 12,
     "metadata": {},
     "output_type": "execute_result"
    }
   ],
   "source": [
    "dec.pop()"
   ]
  },
  {
   "cell_type": "markdown",
   "id": "685a6062",
   "metadata": {},
   "source": [
    "### 7) Посмотреть элемент в начале дека (front)"
   ]
  },
  {
   "cell_type": "code",
   "execution_count": 13,
   "id": "effa2bac",
   "metadata": {},
   "outputs": [
    {
     "data": {
      "text/plain": [
       "-1"
      ]
     },
     "execution_count": 13,
     "metadata": {},
     "output_type": "execute_result"
    }
   ],
   "source": [
    "dec[0]"
   ]
  },
  {
   "cell_type": "markdown",
   "id": "676d010b",
   "metadata": {},
   "source": [
    "### 8) Посмотреть элемент в конце дека (back)"
   ]
  },
  {
   "cell_type": "code",
   "execution_count": 14,
   "id": "8b2bdcc4",
   "metadata": {},
   "outputs": [
    {
     "data": {
      "text/plain": [
       "4"
      ]
     },
     "execution_count": 14,
     "metadata": {},
     "output_type": "execute_result"
    }
   ],
   "source": [
    "dec[-1]"
   ]
  },
  {
   "cell_type": "markdown",
   "id": "025b90a1",
   "metadata": {},
   "source": [
    "### 9) Определение размера дека (size)"
   ]
  },
  {
   "cell_type": "code",
   "execution_count": 15,
   "id": "bb8e82b5",
   "metadata": {},
   "outputs": [
    {
     "data": {
      "text/plain": [
       "6"
      ]
     },
     "execution_count": 15,
     "metadata": {},
     "output_type": "execute_result"
    }
   ],
   "source": [
    "len(dec)"
   ]
  },
  {
   "cell_type": "markdown",
   "id": "5d7edb08",
   "metadata": {
    "scrolled": true
   },
   "source": [
    "### Задание №1\n",
    "Отсортировать строки файла, содержащие названия книг, в алфавитном порядке с использованием двух деков."
   ]
  },
  {
   "cell_type": "code",
   "execution_count": 16,
   "id": "17702ade",
   "metadata": {},
   "outputs": [
    {
     "name": "stdout",
     "output_type": "stream",
     "text": [
      "deque(['Братья Карамазовы', 'Война и мир', 'Граф Монте-Кристо', 'Двенадцать стульев', 'Евгений Онегин', 'Золотой теленок', 'Идиот', 'Мастер и Маргарита', 'Мёртвые души', 'Отверженные', 'Отцы и дети', 'Палата № 6', 'Повести Белкина', 'Преступление и наказание', 'Ревизор', 'Село Степанчиково и его обитатели', 'Собака Баскервилей', 'Собачье сердце', 'Три мушкетера', 'Три товарища'])\n"
     ]
    }
   ],
   "source": [
    "from collections import deque\n",
    "dec_one = deque([])\n",
    "dec_two = deque([])\n",
    "\n",
    "with open('../Lab4_text/1_text.txt', encoding='utf-8') as file:\n",
    "    for item in file:\n",
    "        item = item.replace(\"\\n\", \"\")\n",
    "        dec_one.append(item)\n",
    "file.close\n",
    "\n",
    "def record_in_txt(dec):\n",
    "    file = open('../Lab4_text/1_answer.txt', 'w', encoding='utf-8')\n",
    "    k = len(dec_two)\n",
    "    for index in range(k):\n",
    "        pop_element = dec_two.popleft()\n",
    "        file.write(pop_element + '\\n')\n",
    "    file.close\n",
    "\n",
    "def max_element():\n",
    "    if (dec_one[0] > dec_one[-1]):\n",
    "        greater_element = dec_one[0]\n",
    "    else:\n",
    "        greater_element = dec_one[-1]\n",
    "    return greater_element\n",
    "\n",
    "def index():\n",
    "    if (dec_one[0] > dec_one[-1]):\n",
    "        i=0\n",
    "    else:\n",
    "        i=1\n",
    "    return i\n",
    "\n",
    "while(len(dec_one) != 0):\n",
    "\n",
    "    greater_element = max_element()\n",
    "    i = index()\n",
    "    \n",
    "    if (len(dec_two) == 0 and i == 0):\n",
    "        dec_one.popleft()\n",
    "        dec_two.append(greater_element)\n",
    "    elif(len(dec_two) == 0 and i == 1):\n",
    "        dec_one.pop()\n",
    "        dec_two.append(greater_element)  \n",
    "\n",
    "    greater_element = max_element()\n",
    "    i = index()\n",
    "\n",
    "    if (dec_two[0] < greater_element and dec_two[-1] > greater_element and i==0):\n",
    "        greater_element = dec_one.pop()\n",
    "    elif (dec_two[0] < greater_element and dec_two[-1] > greater_element and i==1):\n",
    "        greater_element = dec_one.popleft()\n",
    "    elif (i==0):\n",
    "        greater_element = dec_one.popleft()\n",
    "    elif (i==1):\n",
    "        greater_element = dec_one.pop()\n",
    "\n",
    "\n",
    "    if(dec_two[0] >= greater_element):\n",
    "        dec_two.appendleft(greater_element)\n",
    "    elif(dec_two[-1] < greater_element):\n",
    "        dec_two.append(greater_element)\n",
    "    else:\n",
    "        dec_one.appendleft(greater_element)\n",
    "        while(len(dec_two) != 0):\n",
    "            pop_element = dec_two.popleft()\n",
    "            dec_one.append(pop_element)\n",
    "        \n",
    "print(dec_two)\n",
    "\n",
    "record_in_txt(dec_two)"
   ]
  },
  {
   "cell_type": "markdown",
   "id": "49fbd2a0",
   "metadata": {},
   "source": [
    "### Задание №2\n",
    "Дек содержит последовательность символов для шифровки сообщений. Дан текстовый файл, содержащий зашифрованное сообщение. Пользуясь деком, расшифровать текст. \n",
    "Известно, что при шифровке каждый символ сообщения заменялся следующим за ним в деке по часовой стрелке через один."
   ]
  },
  {
   "cell_type": "code",
   "execution_count": null,
   "id": "81cab7a8",
   "metadata": {},
   "outputs": [],
   "source": []
  },
  {
   "cell_type": "markdown",
   "id": "c0894f47",
   "metadata": {},
   "source": [
    "### Задание №3\n",
    "Даны три стержня и n дисков различного размера. Диски можно надевать на стержни, образуя из них башни. Перенести n дисков со стержня А на стержень С, сохранив их первоначальный порядок. При переносе дисков необходимо соблюдать следующие правила:\n",
    "- на каждом шаге со стержня на стержень переносить только один диск;\n",
    "- диск нельзя помещать на диск меньшего размера;\n",
    "- для промежуточного хранения можно использовать стержень В.\n",
    "Реализовать алгоритм, используя три стека вместо стержней А, В, С. Информация о дисках хранится в исходном файле."
   ]
  },
  {
   "cell_type": "code",
   "execution_count": null,
   "id": "9e91a9d4",
   "metadata": {},
   "outputs": [],
   "source": []
  },
  {
   "cell_type": "markdown",
   "id": "e5b0be17",
   "metadata": {},
   "source": [
    "### Задание №4\n",
    "Дан текстовый файл с программой на алгоритмическом языке. За один просмотр файла проверить баланс круглых скобок в тексте, используя стек."
   ]
  },
  {
   "cell_type": "code",
   "execution_count": null,
   "id": "5b1df60a",
   "metadata": {},
   "outputs": [],
   "source": []
  },
  {
   "cell_type": "markdown",
   "id": "c44cdd6b",
   "metadata": {},
   "source": [
    "### Задание №5\n",
    "Дан текстовый файл с программой на алгоритмическом языке. За один просмотр файла проверить баланс квадратных скобок в тексте, используя дек."
   ]
  },
  {
   "cell_type": "code",
   "execution_count": null,
   "id": "36b8f400",
   "metadata": {},
   "outputs": [],
   "source": []
  },
  {
   "cell_type": "markdown",
   "id": "59d13dc7",
   "metadata": {},
   "source": [
    "### Задание №6\n",
    "Дан файл из символов. Используя стек, за один просмотр файла напечатать сначала все цифры, затем все буквы, и, наконец, все остальные символы, сохраняя исходный порядок в каждой группе символов."
   ]
  },
  {
   "cell_type": "code",
   "execution_count": null,
   "id": "297e36c2",
   "metadata": {},
   "outputs": [],
   "source": []
  },
  {
   "cell_type": "markdown",
   "id": "973f68bd",
   "metadata": {},
   "source": [
    "### Задание №7\n",
    "Дан файл из целых чисел. Используя дек, за один просмотр файла напечатать сначала все отрицательные числа, затем все положительные числа, сохраняя исходный порядок в каждой группе."
   ]
  },
  {
   "cell_type": "code",
   "execution_count": null,
   "id": "c56fad66",
   "metadata": {},
   "outputs": [],
   "source": []
  },
  {
   "cell_type": "markdown",
   "id": "b9228191",
   "metadata": {},
   "source": [
    "### Задание №8\n",
    "Дан текстовый файл. Используя стек, сформировать новый текстовый файл, содержащий строки исходного файла, записанные в обратном порядке: первая строка становится последней, вторая – предпоследней и т.д."
   ]
  },
  {
   "cell_type": "code",
   "execution_count": null,
   "id": "981fbdfe",
   "metadata": {},
   "outputs": [],
   "source": []
  },
  {
   "cell_type": "markdown",
   "id": "rental-jerusalem",
   "metadata": {},
   "source": [
    "### Вывод\n"
   ]
  },
  {
   "cell_type": "markdown",
   "id": "0c2b8899",
   "metadata": {},
   "source": []
  }
 ],
 "metadata": {
  "kernelspec": {
   "display_name": "Python 3 (ipykernel)",
   "language": "python",
   "name": "python3"
  },
  "language_info": {
   "codemirror_mode": {
    "name": "ipython",
    "version": 3
   },
   "file_extension": ".py",
   "mimetype": "text/x-python",
   "name": "python",
   "nbconvert_exporter": "python",
   "pygments_lexer": "ipython3",
   "version": "3.9.7"
  }
 },
 "nbformat": 4,
 "nbformat_minor": 5
}
