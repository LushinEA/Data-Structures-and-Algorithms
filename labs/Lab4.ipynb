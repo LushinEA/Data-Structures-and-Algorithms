{
 "cells": [
  {
   "cell_type": "markdown",
   "id": "fifteen-sailing",
   "metadata": {},
   "source": [
    "# Лабораторная работа №4\n",
    "## Выполнил студент группы БФИ2001 Лушин Евгений Александрович"
   ]
  },
  {
   "cell_type": "markdown",
   "id": "arctic-stocks",
   "metadata": {},
   "source": [
    "Реализовать следующие структуры данных:\n",
    "  \n",
    "● <b> Стек (stack): </b>  \n",
    "Операции для стека: \n",
    "<i> инициализация, проверка на пустоту, добавление нового элемента в начало, извлечение элемента из начала;  </i>  \n",
    "  \n",
    "● <b> Дек (двусторонняя очередь, deque):  </b>  \n",
    "Операции для дека: \n",
    "<i> инициализация, проверка на пустоту, добавление нового элемента в начало, добавление нового элемента в конец, извлечение элемента из начала, извлечение элемента из конца. </i>  \n",
    "  \n",
    "<i> Разработать программу обработки данных, содержащихся в заранее подготовленном txt-файле, в соответствии с заданиями, применив указанную в задании структуру данных. Результат работы программы вывести на экран и сохранить в отдельном txt-файле. </i>"
   ]
  },
  {
   "cell_type": "markdown",
   "id": "edceb5db",
   "metadata": {},
   "source": [
    "## Стек"
   ]
  },
  {
   "cell_type": "code",
   "execution_count": 1,
   "id": "d84885b0",
   "metadata": {},
   "outputs": [],
   "source": [
    "class Stack: \n",
    "    def __init__(self): # конструктор класса\n",
    "        self.items = []\n",
    "    \n",
    "    def empty(self): # проверка на пустоту стека\n",
    "        return self.items == []\n",
    "    \n",
    "    def push(self, item): # добавление в вершину стека элемента\n",
    "        self.items.append(item)\n",
    "        \n",
    "    def pop(self): # возврат и удаление вехрнего эл. из стека\n",
    "        return self.items.pop()\n",
    "    \n",
    "    def top(self): # возврат верхнего эл. без удаления\n",
    "        return self.items[len(self.items) - 1]\n",
    "    \n",
    "    def size(self): # кол-во элементов в стеке\n",
    "        return len(self.items)"
   ]
  },
  {
   "cell_type": "markdown",
   "id": "0734622f",
   "metadata": {},
   "source": [
    "## Дек"
   ]
  },
  {
   "cell_type": "code",
   "execution_count": 2,
   "id": "4b2230bf",
   "metadata": {},
   "outputs": [],
   "source": [
    "class Deque:\n",
    "    def __init__(self):\n",
    "        self.items = []\n",
    "    \n",
    "    def push_right(self, item): # добавить справа\n",
    "        self.items.append(item)\n",
    "        \n",
    "    def push_left(self, item): # добавить слева\n",
    "        self.items.insert(0, item)\n",
    "    \n",
    "    def pop_right(self): # удалить справа\n",
    "        return self.items.pop()\n",
    "    \n",
    "    def pop_left(self): # удалить слева\n",
    "        return self.items.pop(0)\n",
    "    \n",
    "    def top_right(self): # возврат правого эл. без удаления\n",
    "        return self.items[len(self.items) - 1]\n",
    "    \n",
    "    def top_left(self): # возврат левого эл. без удаления\n",
    "        return self.items[0]\n",
    "    \n",
    "    def empty(self): # проверка на пустоту стека\n",
    "        return self.items == []\n",
    "    \n",
    "    def size(self): # кол-во элементов в стеке\n",
    "        return len(self.items)"
   ]
  },
  {
   "cell_type": "markdown",
   "id": "5d7edb08",
   "metadata": {
    "scrolled": true
   },
   "source": [
    "### Задание №1\n",
    "Отсортировать строки файла, содержащие названия книг, в алфавитном порядке с использованием двух деков."
   ]
  },
  {
   "cell_type": "code",
   "execution_count": 3,
   "id": "17702ade",
   "metadata": {},
   "outputs": [
    {
     "name": "stdout",
     "output_type": "stream",
     "text": [
      "Братья Карамазовы\n",
      "Война и мир\n",
      "Граф Монте-Кристо\n",
      "Двенадцать стульев\n",
      "Евгений Онегин\n",
      "Золотой теленок\n",
      "Идиот\n",
      "Мастер и Маргарита\n",
      "Мёртвые души\n",
      "Отверженные\n",
      "Отцы и дети\n",
      "Палата № 6\n",
      "Повести Белкина\n",
      "Преступление и наказание\n",
      "Ревизор\n",
      "Село Степанчиково и его обитатели\n",
      "Собака Баскервилей\n",
      "Собачье сердце\n",
      "Три мушкетера\n",
      "Три товарища\n"
     ]
    }
   ],
   "source": [
    "dec_one = Deque()\n",
    "dec_two = Deque()\n",
    "\n",
    "with open('../Lab4_text/1_text.txt', encoding='utf-8') as file:\n",
    "    for item in file:\n",
    "        item = item.replace(\"\\n\", \"\")\n",
    "        dec_one.push_right(item)\n",
    "file.close()\n",
    "\n",
    "def record_in_txt(dec):\n",
    "    file = open('../Lab4_text/1_answer.txt', 'w', encoding='utf-8')\n",
    "    k = dec_two.size()\n",
    "    for index in range(k):\n",
    "        pop_element = dec_two.pop_left()\n",
    "        print(pop_element)\n",
    "        file.write(pop_element + '\\n')\n",
    "    file.close()\n",
    "\n",
    "def max_element():\n",
    "    if (dec_one.top_left() > dec_one.top_right()):\n",
    "        greater_element = dec_one.top_left()\n",
    "    else:\n",
    "        greater_element = dec_one.top_right()\n",
    "    return greater_element\n",
    "\n",
    "def index():\n",
    "    if (dec_one.top_left() > dec_one.top_right()):\n",
    "        i=0\n",
    "    else:\n",
    "        i=1\n",
    "    return i\n",
    "\n",
    "while(dec_one.size() != 0):\n",
    "\n",
    "    greater_element = max_element()\n",
    "    i = index()\n",
    "    \n",
    "    if (dec_two.size() == 0 and i == 0):\n",
    "        dec_one.pop_left()\n",
    "        dec_two.push_right(greater_element)\n",
    "    elif(dec_two.size() == 0 and i == 1):\n",
    "        dec_one.pop_right()\n",
    "        dec_two.push_right(greater_element)  \n",
    "\n",
    "    greater_element = max_element()\n",
    "    i = index()\n",
    "\n",
    "    if (dec_two.top_left() < greater_element and dec_two.top_right() > greater_element and i==0):\n",
    "        greater_element = dec_one.pop_right()\n",
    "    elif (dec_two.top_left() < greater_element and dec_two.top_right() > greater_element and i==1):\n",
    "        greater_element = dec_one.pop_left()\n",
    "    elif (i==0):\n",
    "        greater_element = dec_one.pop_left()\n",
    "    elif (i==1):\n",
    "        greater_element = dec_one.pop_right()\n",
    "\n",
    "\n",
    "    if(dec_two.top_left() >= greater_element):\n",
    "        dec_two.push_left(greater_element)\n",
    "    elif(dec_two.top_right() < greater_element):\n",
    "        dec_two.push_right(greater_element)\n",
    "    else:\n",
    "        dec_one.push_left(greater_element)\n",
    "        while(dec_two.size() != 0):\n",
    "            pop_element = dec_two.pop_left()\n",
    "            dec_one.push_right(pop_element)\n",
    "\n",
    "record_in_txt(dec_two)"
   ]
  },
  {
   "cell_type": "markdown",
   "id": "49fbd2a0",
   "metadata": {},
   "source": [
    "### Задание №2\n",
    "Дек содержит последовательность символов для шифровки сообщений. Дан текстовый файл, содержащий зашифрованное сообщение. Пользуясь деком, расшифровать текст. \n",
    "Известно, что при шифровке каждый символ сообщения заменялся следующим за ним в деке по часовой стрелке через один."
   ]
  },
  {
   "cell_type": "code",
   "execution_count": 4,
   "id": "81cab7a8",
   "metadata": {},
   "outputs": [
    {
     "name": "stdout",
     "output_type": "stream",
     "text": [
      "ожкпижз цжто\n",
      "римский шифр\n"
     ]
    }
   ],
   "source": [
    "dec_alphabet = Deque()\n",
    "\n",
    "for i in range(32):\n",
    "    dec_alphabet.push_right(str(ord(\"а\") + i))\n",
    "    dec_alphabet.push_right(str(ord(\" \")))\n",
    "\n",
    "file = open('../Lab4_text/2_text.txt', encoding='utf-8')\n",
    "\n",
    "text = ''\n",
    "initial_text = ''\n",
    "for line in file:\n",
    "    for sym in line:\n",
    "        while sym != chr(int(dec_alphabet.top_right())):\n",
    "            dec_alphabet.push_left(dec_alphabet.pop_right())\n",
    "        dec_alphabet.push_right(dec_alphabet.pop_left())\n",
    "        dec_alphabet.push_right(dec_alphabet.pop_left())\n",
    "        dec_alphabet.push_right(dec_alphabet.pop_left())\n",
    "        dec_alphabet.push_right(dec_alphabet.pop_left())\n",
    "        initial_text = initial_text + sym\n",
    "        text += chr(int(dec_alphabet.top_right()))\n",
    "file.close()\n",
    "\n",
    "file_res = open('../Lab4_text/2_answer.txt', 'w', encoding='utf-8')\n",
    "file_res.write(text)\n",
    "file_res.close()\n",
    "\n",
    "print(initial_text)\n",
    "print(text)"
   ]
  },
  {
   "cell_type": "markdown",
   "id": "c0894f47",
   "metadata": {},
   "source": [
    "### Задание №3\n",
    "Даны три стержня и n дисков различного размера. Диски можно надевать на стержни, образуя из них башни. Перенести n дисков со стержня А на стержень С, сохранив их первоначальный порядок. При переносе дисков необходимо соблюдать следующие правила:\n",
    "- на каждом шаге со стержня на стержень переносить только один диск;\n",
    "- диск нельзя помещать на диск меньшего размера;\n",
    "- для промежуточного хранения можно использовать стержень В.\n",
    "Реализовать алгоритм, используя три стека вместо стержней А, В, С. Информация о дисках хранится в исходном файле."
   ]
  },
  {
   "cell_type": "code",
   "execution_count": 5,
   "id": "9e91a9d4",
   "metadata": {},
   "outputs": [
    {
     "name": "stdout",
     "output_type": "stream",
     "text": [
      "--------------------------------Исходный порядок--------------------------------\n",
      "20\n",
      "25\n",
      "40\n",
      "2\n",
      "1\n",
      "--------------------------------Отсортированный порядок--------------------------------\n",
      "1\n",
      "2\n",
      "20\n",
      "25\n",
      "40\n"
     ]
    }
   ],
   "source": [
    "def move(a,b):\n",
    "    if a.size() == 0 and b.size() != 0:\n",
    "        a.push(b.pop())\n",
    "    elif a.size() != 0 and b.size() == 0:\n",
    "        b.push(a.pop())\n",
    "    elif a.size() == 0 and b.size() == 0:\n",
    "        return\n",
    "    elif a.top() > b.top():\n",
    "        a.push(b.pop())\n",
    "    else:\n",
    "        b.push(a.pop())     \n",
    "\n",
    "stack_A= Stack()\n",
    "stack_B= Stack()\n",
    "stack_C= Stack()\n",
    "rez=\"\"\n",
    "file = open('../Lab4_text/3_text.txt', encoding='utf-8')\n",
    "t = file.readlines()\n",
    "file.close()\n",
    "for i in range(len(t)):\n",
    "    rez=rez+t[i]\n",
    "disk=rez.split(\" \")\n",
    "print(\"--------------------------------Исходный порядок--------------------------------\")\n",
    "for i in range(len(disk)):\n",
    "    print(disk[i])\n",
    "    stack_A.push(int(disk[i]))\n",
    "if len(disk)%2==0:\n",
    "    while stack_C.size() is not len(disk):\n",
    "        move(stack_A, stack_B)\n",
    "        move(stack_A, stack_C)\n",
    "        if stack_C.size() is not len(disk):\n",
    "            move(stack_B, stack_C)\n",
    "else:\n",
    "    while stack_C.size() is not len(disk):\n",
    "        move(stack_A, stack_C)\n",
    "        move(stack_A, stack_B)\n",
    "        if stack_C.size() is not len(disk):\n",
    "            move(stack_B, stack_C)\n",
    "                \n",
    "res_text =\"\"\n",
    "print(\"--------------------------------Отсортированный порядок--------------------------------\")\n",
    "for i in range(stack_C.size()):\n",
    "    res_text = res_text + str(stack_C.top()) + \" \"\n",
    "    print(stack_C.pop())\n",
    "\n",
    "file_res = open('../Lab4_text/3_answer.txt', 'w', encoding='utf-8')\n",
    "file_res.write(res_text)\n",
    "file_res.close()"
   ]
  },
  {
   "cell_type": "markdown",
   "id": "e5b0be17",
   "metadata": {},
   "source": [
    "### Задание №4\n",
    "Дан текстовый файл с программой на алгоритмическом языке. За один просмотр файла проверить баланс круглых скобок в тексте, используя стек."
   ]
  },
  {
   "cell_type": "code",
   "execution_count": 6,
   "id": "5b1df60a",
   "metadata": {},
   "outputs": [
    {
     "name": "stdout",
     "output_type": "stream",
     "text": [
      "True\n"
     ]
    }
   ],
   "source": [
    "stack_bracket = Stack()\n",
    "\n",
    "file = open('../Lab4_text/4_text.txt', encoding='utf-8')\n",
    "\n",
    "for line in file:\n",
    "    for sym in line:\n",
    "        if sym == '(':\n",
    "            stack_bracket.push(sym)\n",
    "        elif sym == ')':\n",
    "            stack_bracket.pop()\n",
    "file.close()\n",
    "\n",
    "file_res = open('../Lab4_text/4_answer.txt', 'w', encoding='utf-8')\n",
    "if stack_bracket.size() == 0:\n",
    "    print(True)\n",
    "    file_res.write(\"True\")\n",
    "else:\n",
    "    print(False)\n",
    "    file_res.write(\"False\")\n",
    "file_res.close()"
   ]
  },
  {
   "cell_type": "markdown",
   "id": "c44cdd6b",
   "metadata": {},
   "source": [
    "### Задание №5\n",
    "Дан текстовый файл с программой на алгоритмическом языке. За один просмотр файла проверить баланс квадратных скобок в тексте, используя дек."
   ]
  },
  {
   "cell_type": "code",
   "execution_count": 7,
   "id": "36b8f400",
   "metadata": {},
   "outputs": [
    {
     "name": "stdout",
     "output_type": "stream",
     "text": [
      "True\n"
     ]
    }
   ],
   "source": [
    "dec_bracket = Deque()\n",
    "\n",
    "file = open('../Lab4_text/5_text.txt', encoding='utf-8')\n",
    "\n",
    "for line in file:\n",
    "    for sym in line:\n",
    "        if sym == '[':\n",
    "            dec_bracket.push_right(sym)\n",
    "        elif sym == ']':\n",
    "            dec_bracket.pop_right()\n",
    "file.close()\n",
    "\n",
    "file_res = open('../Lab4_text/5_answer.txt', 'w', encoding='utf-8')\n",
    "if dec_bracket.size() == 0:\n",
    "    print(True)\n",
    "    file_res.write(\"True\")\n",
    "else:\n",
    "    print(False)\n",
    "    file_res.write(\"False\")\n",
    "file_res.close()"
   ]
  },
  {
   "cell_type": "markdown",
   "id": "59d13dc7",
   "metadata": {},
   "source": [
    "### Задание №6\n",
    "Дан файл из символов. Используя стек, за один просмотр файла напечатать сначала все цифры, затем все буквы, и, наконец, все остальные символы, сохраняя исходный порядок в каждой группе символов."
   ]
  },
  {
   "cell_type": "code",
   "execution_count": 8,
   "id": "297e36c2",
   "metadata": {},
   "outputs": [
    {
     "name": "stdout",
     "output_type": "stream",
     "text": [
      "1115HeoWordOfthebet !   $$!!!\n"
     ]
    }
   ],
   "source": [
    "stack_number = Stack()\n",
    "stack_letter = Stack()\n",
    "stack_symbol = Stack()\n",
    "\n",
    "file = open('../Lab4_text/6_text.txt', encoding='utf-8')\n",
    "file_res = open('../Lab4_text/6_answer.txt', 'w', encoding='utf-8')\n",
    "\n",
    "for line in file:\n",
    "    for sym in line:\n",
    "        if sym.isnumeric():\n",
    "            stack_number.push(sym)\n",
    "        elif sym.isalpha():\n",
    "            stack_letter.push(sym)\n",
    "        else:\n",
    "            stack_symbol.push(sym)\n",
    "file.close()\n",
    "\n",
    "while stack_number.size() != 0:\n",
    "    stack_letter.push(stack_number.pop())\n",
    "while stack_symbol.size() != 0:\n",
    "    stack_number.push(stack_symbol.pop())\n",
    "digit = stack_letter.top()\n",
    "while digit.isnumeric():\n",
    "    stack_symbol.push(stack_letter.pop())\n",
    "    digit = stack_letter.top()\n",
    "while stack_letter.size() != 0:\n",
    "    stack_number.push(stack_letter.pop())\n",
    "while stack_symbol.size() != 0:\n",
    "     stack_number.push(stack_symbol.pop())\n",
    "\n",
    "text = \"\"\n",
    "for i in range(stack_number.size()):\n",
    "    text = text + stack_number.pop()\n",
    "\n",
    "file_res.write(text)\n",
    "file_res.close()\n",
    "\n",
    "print(text)"
   ]
  },
  {
   "cell_type": "markdown",
   "id": "973f68bd",
   "metadata": {},
   "source": [
    "### Задание №7\n",
    "Дан файл из целых чисел. Используя дек, за один просмотр файла напечатать сначала все отрицательные числа, затем все положительные числа, сохраняя исходный порядок в каждой группе."
   ]
  },
  {
   "cell_type": "code",
   "execution_count": 9,
   "id": "c56fad66",
   "metadata": {
    "scrolled": true
   },
   "outputs": [
    {
     "name": "stdout",
     "output_type": "stream",
     "text": [
      "-5\n",
      "-30\n",
      "-45\n",
      "4\n",
      "7\n",
      "6\n",
      "8\n",
      "110\n",
      "2\n",
      "10\n"
     ]
    }
   ],
   "source": [
    "file = open('../Lab4_text/7_text.txt', encoding='utf-8')\n",
    "file_res = open('../Lab4_text/7_answer.txt', 'w', encoding='utf-8')\n",
    "dec_number = Deque()\n",
    "\n",
    "for line in file:\n",
    "    line = line.rstrip()\n",
    "    num = int(line)\n",
    "    if num < 0:\n",
    "        print(line)\n",
    "        file_res.write(line + '\\n')\n",
    "    else:\n",
    "        dec_number.push_left(line)\n",
    "\n",
    "while dec_number.size() != 0:\n",
    "    s = dec_number.pop_right()\n",
    "    print(s)\n",
    "    file_res.write(s + '\\n')"
   ]
  },
  {
   "cell_type": "markdown",
   "id": "b9228191",
   "metadata": {},
   "source": [
    "### Задание №8\n",
    "Дан текстовый файл. Используя стек, сформировать новый текстовый файл, содержащий строки исходного файла, записанные в обратном порядке: первая строка становится последней, вторая – предпоследней и т.д."
   ]
  },
  {
   "cell_type": "code",
   "execution_count": 10,
   "id": "4196878f",
   "metadata": {},
   "outputs": [
    {
     "name": "stdout",
     "output_type": "stream",
     "text": [
      "print(text)\n",
      "file_res.close()\n",
      "file_res.write(text)\n",
      "file_res = open('../Lab4_text/8_answer.txt', 'w', encoding='utf-8')\n",
      "\n",
      "    text = text + stack.pop()\n",
      "while len(stack) != 0:\n",
      "text =\"\"\n",
      "    \n",
      "file.close()\n",
      "    stack.append(line)\n",
      "for line in file:\n",
      "stack = []\n",
      "file = open('../Lab4_text/8_text.txt', encoding='utf-8')\n",
      "\n"
     ]
    }
   ],
   "source": [
    "file = open('../Lab4_text/8_text.txt', encoding='utf-8')\n",
    "stack = Stack()\n",
    "for line in file:\n",
    "    stack.push(line)\n",
    "file.close()\n",
    "    \n",
    "text =\"\"\n",
    "while stack.size() != 0:\n",
    "    text = text + stack.pop()\n",
    "\n",
    "file_res = open('../Lab4_text/8_answer.txt', 'w', encoding='utf-8')\n",
    "file_res.write(text)\n",
    "file_res.close()\n",
    "\n",
    "print(text)"
   ]
  },
  {
   "cell_type": "markdown",
   "id": "rental-jerusalem",
   "metadata": {},
   "source": [
    "### Вывод\n"
   ]
  },
  {
   "cell_type": "markdown",
   "id": "0c2b8899",
   "metadata": {},
   "source": []
  }
 ],
 "metadata": {
  "kernelspec": {
   "display_name": "Python 3 (ipykernel)",
   "language": "python",
   "name": "python3"
  },
  "language_info": {
   "codemirror_mode": {
    "name": "ipython",
    "version": 3
   },
   "file_extension": ".py",
   "mimetype": "text/x-python",
   "name": "python",
   "nbconvert_exporter": "python",
   "pygments_lexer": "ipython3",
   "version": "3.9.7"
  }
 },
 "nbformat": 4,
 "nbformat_minor": 5
}
