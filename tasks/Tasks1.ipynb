{
 "cells": [
  {
   "cell_type": "markdown",
   "id": "244314fb",
   "metadata": {},
   "source": [
    "# Задание 1"
   ]
  },
  {
   "cell_type": "markdown",
   "id": "64630386",
   "metadata": {},
   "source": [
    "Даны две строки: `s1` и `s2` с одинаковым размером.\n",
    "\n",
    "Проверьте, может ли некоторая перестановка строки `s1` “победить” некоторую перестановку строки `s2` или наоборот.\n",
    "\n",
    "Строка x может “победить” строку y (обе имеют размер n), если `x[i] >= y[i]` (в алфавитном порядке) для всех i от 0 до n-1.\n"
   ]
  },
  {
   "cell_type": "markdown",
   "id": "cf51dab2",
   "metadata": {},
   "source": [
    "## Ввод"
   ]
  },
  {
   "cell_type": "markdown",
   "id": "d697a747",
   "metadata": {},
   "source": [
    "`abc`\n",
    "`xya`"
   ]
  },
  {
   "cell_type": "markdown",
   "id": "50b10a2e",
   "metadata": {},
   "source": [
    "## Вывод"
   ]
  },
  {
   "cell_type": "markdown",
   "id": "55442a49",
   "metadata": {},
   "source": [
    "`True`\n",
    "\n",
    "### Исполняемый код записать в ячейку ниже:"
   ]
  },
  {
   "cell_type": "code",
   "execution_count": null,
   "id": "3b0d440a",
   "metadata": {},
   "outputs": [],
   "source": [
    "s1 = list(input(\"Введите первую строку: \"))\n",
    "s2 = list(input(\"Введите вторую строку: \"))\n",
    "s1.sort()\n",
    "s2.sort()\n",
    "fl = True\n",
    "for i in range (len(s1)):\n",
    "    if (s1[i] > s2[i]):\n",
    "        fl = False\n",
    "        break\n",
    "        \n",
    "print(\"Результат проверки:\", fl)"
   ]
  },
  {
   "cell_type": "markdown",
   "id": "b3a969a6",
   "metadata": {},
   "source": [
    "# Задание 2"
   ]
  },
  {
   "cell_type": "markdown",
   "id": "9c1ce05d",
   "metadata": {},
   "source": [
    "Дана строка `s`, вернуть самую длинную полиндромную подстроку в `s`."
   ]
  },
  {
   "cell_type": "markdown",
   "id": "20415c0e",
   "metadata": {},
   "source": [
    "## Ввод"
   ]
  },
  {
   "cell_type": "markdown",
   "id": "e77fcb44",
   "metadata": {},
   "source": [
    "`babad`"
   ]
  },
  {
   "cell_type": "markdown",
   "id": "49996449",
   "metadata": {},
   "source": [
    "## Вывод"
   ]
  },
  {
   "cell_type": "markdown",
   "id": "75be2464",
   "metadata": {},
   "source": [
    "`aba` или `bab`"
   ]
  },
  {
   "cell_type": "markdown",
   "id": "12ef9771",
   "metadata": {},
   "source": [
    "## Исполняемый код записывать в ячейку ниже"
   ]
  },
  {
   "cell_type": "code",
   "execution_count": null,
   "id": "3f06c4fc",
   "metadata": {},
   "outputs": [],
   "source": [
    "import math\n",
    "\n",
    "s = input(\"Введите строку: \")\n",
    "mas = []\n",
    "\n",
    "#составление матрицы полиндромов (длина, начало полиндрома, его конец)\n",
    "for beg in range (len(s)-1):\n",
    "    for end in range (beg+1, len(s)):\n",
    "        fl = True\n",
    "        left = beg\n",
    "        right = end\n",
    "        while left < right:\n",
    "            if s[left] != s[right]:\n",
    "                fl = False\n",
    "                break\n",
    "            else:\n",
    "                left += 1\n",
    "                right -=1\n",
    "        if (fl):\n",
    "            mas.append([end - beg + 1, beg, end])\n",
    "            \n",
    "#нахождение максимальной длины полиндромов\n",
    "max_len = -1\n",
    "for i in range (len(mas)):\n",
    "    if mas[i][0] > max_len:\n",
    "        max_len = mas[i][0]\n",
    "        \n",
    "#составление строки для красивого вывода\n",
    "s1 = ''\n",
    "for i in range (len(mas)):\n",
    "    if mas[i][0] == max_len:\n",
    "        s1 += s[mas[i][1] : mas[i][2]+1] + ' или '\n",
    "        \n",
    "#вывод\n",
    "print (\"Результат:\", s1[:len(s1)-5])"
   ]
  },
  {
   "cell_type": "markdown",
   "id": "5f54b630",
   "metadata": {},
   "source": [
    "# Задание 3"
   ]
  },
  {
   "cell_type": "markdown",
   "id": "566f1d3b",
   "metadata": {},
   "source": [
    "Вернуть количество отдельных непустых подстрок текста, которые могут быть записаны как конкатенация некоторой строки с самой собой (т.е. она может быть записана, как `a + a`, где `a` - некоторая строка)."
   ]
  },
  {
   "cell_type": "markdown",
   "id": "0f734fd8",
   "metadata": {},
   "source": [
    "## Ввод"
   ]
  },
  {
   "cell_type": "markdown",
   "id": "e0be5554",
   "metadata": {},
   "source": [
    "`aabb`"
   ]
  },
  {
   "cell_type": "markdown",
   "id": "ab8eda0b",
   "metadata": {},
   "source": [
    "## Вывод"
   ]
  },
  {
   "cell_type": "markdown",
   "id": "1d716d36",
   "metadata": {},
   "source": [
    "2"
   ]
  },
  {
   "cell_type": "markdown",
   "id": "fcd91349",
   "metadata": {},
   "source": [
    "## Исполняемый код записывать в ячейку ниже"
   ]
  },
  {
   "cell_type": "code",
   "execution_count": null,
   "id": "be07379d",
   "metadata": {},
   "outputs": [],
   "source": [
    "import math\n",
    "\n",
    "s = input(\"Введите строку: \")\n",
    "num = 0\n",
    "for beg in range (len(s)-1): #начало подстроки\n",
    "    for length in range (1,len(s)-beg): #длина подстроки\n",
    "        if beg + length*2 > len(s): continue\n",
    "        if (s[beg:beg+length]*2 == s[beg:beg + length*2]): #является ли подстрока (а) половиной подстроки (а+а)\n",
    "            #print (s[beg:beg + length*2], beg, beg + length*2)\n",
    "            num +=1\n",
    "#вывод\n",
    "print (\"Результат:\", num)"
   ]
  }
 ],
 "metadata": {
  "kernelspec": {
   "display_name": "Python 3 (ipykernel)",
   "language": "python",
   "name": "python3"
  },
  "language_info": {
   "codemirror_mode": {
    "name": "ipython",
    "version": 3
   },
   "file_extension": ".py",
   "mimetype": "text/x-python",
   "name": "python",
   "nbconvert_exporter": "python",
   "pygments_lexer": "ipython3",
   "version": "3.9.7"
  }
 },
 "nbformat": 4,
 "nbformat_minor": 5
}
